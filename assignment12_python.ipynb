{
 "cells": [
  {
   "cell_type": "markdown",
   "metadata": {
    "deletable": true,
    "editable": true
   },
   "source": [
    "# Problem 1(a).  A collectible card class.\n",
    "\n",
    "You are tasked with organizing information about a Magic: The Gathering card collection.  You are particularly interested in which cards are most rare, and therefore most valuable. Since the game is often played with decks that focus on a particular color or two, you are also interested in the colors of the cards. \n",
    "\n",
    "The MTG JSON website (http://mtgjson.com/) has information about different sets of Magic: The Gathering cards in JSON format.  Using the [Example Card](http://mtgjson.com/#exampleCard) information (scroll down if you don't see it!), create a MagicCard class to store relevant information about Magic cards in Python.  \n",
    "\n",
    "The main features we are interested in are name, colors, and rarity.  Cards may have multiple colors: i.e. a Blue Black card is both blue AND black.  \"Colorless\" is not a color.\n",
    "\n",
    "Consider:\n",
    "\n",
    "* How should someone initialize an instance of your class?\n",
    "* What functions should your class have?\n",
    "\n",
    "Your class may have multiple methods for initialization, but at least one of the should accept the MTG JSON represntation of a card as input."
   ]
  },
  {
   "cell_type": "code",
   "execution_count": null,
   "metadata": {
    "collapsed": true,
    "deletable": true,
    "editable": true
   },
   "outputs": [],
   "source": []
  },
  {
   "cell_type": "markdown",
   "metadata": {
    "deletable": true,
    "editable": true
   },
   "source": [
    "# Problem 1(b). Class for a set of Magic cards.\n",
    "\n",
    "Download the data for the Dragons of Tarkir (abbreviated as DTK) set from the [Individual Sets](http://mtgjson.com/#individualSets) section of the MTG JSON page.  Create a MagicCardSet class to store relevant information about a set of Magic cards, and create an instance of the class which contains all of the information about the Dragons of Tarkir set.  Your class should use your MTG Set class should store the relevant MTG Cards as instances of your MTG Card class."
   ]
  },
  {
   "cell_type": "code",
   "execution_count": null,
   "metadata": {
    "collapsed": true,
    "deletable": true,
    "editable": true
   },
   "outputs": [],
   "source": []
  },
  {
   "cell_type": "markdown",
   "metadata": {
    "deletable": true,
    "editable": true
   },
   "source": [
    "# Problem 1(c).  Dragons of Tarkir.\n",
    "\n",
    "The MTG rarity levels are \"Common\", \"Uncommon\", \"Rare\", and \"Mythic Rare\". What are the rarest cards in the Dragons of Tarkir set (meaning list all card names that are from the least common rarity level)?  What colors are they associated with? You might be able to guess by the rarity level names which rarity level is least common, but we want you to use code to verify which is least common, and then print the card names and colors of those cards.\n",
    "\n",
    "Write an MTG Set class method to answer this question, then create a markdown cell which explains your method and conclusions. "
   ]
  },
  {
   "cell_type": "code",
   "execution_count": null,
   "metadata": {
    "collapsed": true,
    "deletable": true,
    "editable": true
   },
   "outputs": [],
   "source": []
  },
  {
   "cell_type": "markdown",
   "metadata": {
    "deletable": true,
    "editable": true
   },
   "source": [
    "# Problem 1(d). Common color for Uncommon cards\n",
    "\n",
    "Write a class method or python function to determine which color is most represented among Uncommon cards?  Remember, \"colorless\" is not a color, and a card that is Blue Black counts as a Blue card and a Black card.\n",
    "\n",
    "When deciding between a class method or a python function, what was your reasoning? (\"X was easier for me to code\" is not a good reason!)"
   ]
  },
  {
   "cell_type": "code",
   "execution_count": null,
   "metadata": {
    "collapsed": true,
    "deletable": true,
    "editable": true
   },
   "outputs": [],
   "source": []
  }
 ],
 "metadata": {
  "anaconda-cloud": {},
  "kernelspec": {
   "display_name": "Python [default]",
   "language": "python",
   "name": "python3"
  },
  "language_info": {
   "codemirror_mode": {
    "name": "ipython",
    "version": 3
   },
   "file_extension": ".py",
   "mimetype": "text/x-python",
   "name": "python",
   "nbconvert_exporter": "python",
   "pygments_lexer": "ipython3",
   "version": "3.5.2"
  }
 },
 "nbformat": 4,
 "nbformat_minor": 0
}
