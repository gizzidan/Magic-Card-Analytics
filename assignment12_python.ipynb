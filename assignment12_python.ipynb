{
 "cells": [
  {
   "cell_type": "markdown",
   "metadata": {},
   "source": [
    "# Problem 1(a).  A collectible card class.\n",
    "\n",
    "You are tasked with organizing information about a Magic: The Gathering card collection.  You are particularly interested in which cards are most rare, and therefore most valuable. Since the game is often played with decks that focus on a particular color or two, you are also interested in the colors of the cards. \n",
    "\n",
    "The MTG JSON website (http://mtgjson.com/) has information about different sets of Magic: The Gathering cards in JSON format.  Using the [Example Card](http://mtgjson.com/#exampleCard) information (scroll down if you don't see it!), create a MagicCard class to store relevant information about Magic cards in Python.  \n",
    "\n",
    "The main features we are interested in are name, colors, and rarity.  Cards may have multiple colors: i.e. a Blue Black card is both blue AND black.  \"Colorless\" is not a color.\n",
    "\n",
    "Consider:\n",
    "\n",
    "* How should someone initialize an instance of your class?\n",
    "* What functions should your class have?\n",
    "\n",
    "Your class may have multiple methods for initialization, but at least one of the should accept the MTG JSON represntation of a card as input."
   ]
  },
  {
   "cell_type": "code",
   "execution_count": 1,
   "metadata": {},
   "outputs": [],
   "source": [
    "import json\n",
    "\n",
    "class MagicCard(object):\n",
    "    \n",
    "    def __init__(self, json_card, method=\"json\", name=\"\", colors=[], rarity=\"\"):\n",
    "        if method == \"json\":\n",
    "            self.name = json_card[\"name\"]\n",
    "            if json_card.get(\"colors\",\"\"):\n",
    "                self.colors = json_card[\"colors\"]\n",
    "            else:\n",
    "                self.colors = [\"Colorless\"]\n",
    "            self.rarity = json_card[\"rarity\"]\n",
    "        else:\n",
    "            self.name = name\n",
    "            self.colors = colors\n",
    "            self.rarity = rarity\n",
    "\n",
    "    def get_name(self):\n",
    "        \"\"\" return link to Flickr page for photo\"\"\"\n",
    "        return self.name\n",
    "    \n",
    "    def get_colors(self):\n",
    "        \"\"\" return link to thumbnail version of photo\"\"\"\n",
    "        return self.colors\n",
    "    \n",
    "    def get_rarity(self):\n",
    "        \"\"\" return photo title\"\"\"\n",
    "        return self.rarity\n",
    "    "
   ]
  },
  {
   "cell_type": "code",
   "execution_count": 2,
   "metadata": {},
   "outputs": [],
   "source": [
    "with open('DTK.json', encoding='utf-8') as data_file:\n",
    "    dtk_j = json.loads(data_file.read())"
   ]
  },
  {
   "cell_type": "markdown",
   "metadata": {},
   "source": [
    "# Problem 1(b). Class for a set of Magic cards.\n",
    "\n",
    "Download the data for the Dragons of Tarkir (abbreviated as DTK) set from the [Individual Sets](http://mtgjson.com/#individualSets) section of the MTG JSON page.  Create a MagicCardSet class to store relevant information about a set of Magic cards, and create an instance of the class which contains all of the information about the Dragons of Tarkir set.  Your class should use your MTG Set class should store the relevant MTG Cards as instances of your MTG Card class."
   ]
  },
  {
   "cell_type": "code",
   "execution_count": 3,
   "metadata": {},
   "outputs": [],
   "source": [
    "import pandas as pd\n",
    "from collections import Counter\n",
    "\n",
    "class MagicCardSet(object):\n",
    "    \n",
    "    def __init__(self, json_set):\n",
    "        self.name = json_set[\"name\"]\n",
    "        self.card_list = [MagicCard(card) for card in json_set[\"cards\"]]\n",
    "  \n",
    "    def get_set_name(self):\n",
    "        return self.name\n",
    "    \n",
    "    def get_card_list(self):\n",
    "        cardList = [card.get_name() for card in self.card_list]\n",
    "        return(cardList)\n",
    "        \n",
    "    \n",
    "    def get_rare(self):\n",
    "        common = 0\n",
    "        uncommon = 0\n",
    "        rare = 0\n",
    "        mythicrare = 0\n",
    "        for card in self.card_list:\n",
    "            if card.get_rarity() == \"Common\":\n",
    "                common += 1\n",
    "            if card.get_rarity() == \"Uncommon\":\n",
    "                uncommon += 1\n",
    "            if card.get_rarity() == \"Rare\":\n",
    "                rare += 1\n",
    "            if card.get_rarity() == \"Mythic Rare\":\n",
    "                mythicrare += 1\n",
    "        rare_rank = [common, uncommon, rare, mythicrare].sort()\n",
    "        print(\"Common:\", common, \"Uncommon:\", uncommon, \"Rare:\", rare, \"Mythic Rare:\", mythicrare)\n",
    "        columns = ('name', 'colors', 'rarity')\n",
    "        rare_list = []\n",
    "        for card in self.card_list:\n",
    "            if card.get_rarity() == \"Mythic Rare\":\n",
    "                rare_list.append(dict(zip(columns, [card.get_name(), card.get_colors(), card.get_rarity()])))\n",
    "        rare_df = pd.DataFrame(rare_list)\n",
    "        return(rare_df)\n",
    "    \n",
    "    def common_colors(self):\n",
    "        color_list = []\n",
    "        for card in self.card_list:\n",
    "            if card.get_rarity() == \"Uncommon\":\n",
    "                color_list.append(card.get_colors())\n",
    "        # make the list 'flat' so it'll be easy to count the occurrence of each color\n",
    "        flat_color_list = [color for sublist in color_list for color in sublist]\n",
    "        return(Counter(flat_color_list))\n",
    "            "
   ]
  },
  {
   "cell_type": "code",
   "execution_count": 4,
   "metadata": {},
   "outputs": [
    {
     "name": "stdout",
     "output_type": "stream",
     "text": [
      "Common: 101 Uncommon: 80 Rare: 53 Mythic Rare: 15\n"
     ]
    },
    {
     "data": {
      "text/html": [
       "<div>\n",
       "<style>\n",
       "    .dataframe thead tr:only-child th {\n",
       "        text-align: right;\n",
       "    }\n",
       "\n",
       "    .dataframe thead th {\n",
       "        text-align: left;\n",
       "    }\n",
       "\n",
       "    .dataframe tbody tr th {\n",
       "        vertical-align: top;\n",
       "    }\n",
       "</style>\n",
       "<table border=\"1\" class=\"dataframe\">\n",
       "  <thead>\n",
       "    <tr style=\"text-align: right;\">\n",
       "      <th></th>\n",
       "      <th>colors</th>\n",
       "      <th>name</th>\n",
       "      <th>rarity</th>\n",
       "    </tr>\n",
       "  </thead>\n",
       "  <tbody>\n",
       "    <tr>\n",
       "      <th>0</th>\n",
       "      <td>[White]</td>\n",
       "      <td>Ojutai Exemplars</td>\n",
       "      <td>Mythic Rare</td>\n",
       "    </tr>\n",
       "    <tr>\n",
       "      <th>1</th>\n",
       "      <td>[Blue]</td>\n",
       "      <td>Clone Legion</td>\n",
       "      <td>Mythic Rare</td>\n",
       "    </tr>\n",
       "    <tr>\n",
       "      <th>2</th>\n",
       "      <td>[Blue]</td>\n",
       "      <td>Shorecrasher Elemental</td>\n",
       "      <td>Mythic Rare</td>\n",
       "    </tr>\n",
       "    <tr>\n",
       "      <th>3</th>\n",
       "      <td>[Black]</td>\n",
       "      <td>Risen Executioner</td>\n",
       "      <td>Mythic Rare</td>\n",
       "    </tr>\n",
       "    <tr>\n",
       "      <th>4</th>\n",
       "      <td>[Red]</td>\n",
       "      <td>Descent of the Dragons</td>\n",
       "      <td>Mythic Rare</td>\n",
       "    </tr>\n",
       "    <tr>\n",
       "      <th>5</th>\n",
       "      <td>[Red]</td>\n",
       "      <td>Dragon Whisperer</td>\n",
       "      <td>Mythic Rare</td>\n",
       "    </tr>\n",
       "    <tr>\n",
       "      <th>6</th>\n",
       "      <td>[Green]</td>\n",
       "      <td>Deathmist Raptor</td>\n",
       "      <td>Mythic Rare</td>\n",
       "    </tr>\n",
       "    <tr>\n",
       "      <th>7</th>\n",
       "      <td>[Green]</td>\n",
       "      <td>Shaman of Forgotten Ways</td>\n",
       "      <td>Mythic Rare</td>\n",
       "    </tr>\n",
       "    <tr>\n",
       "      <th>8</th>\n",
       "      <td>[Red, Green]</td>\n",
       "      <td>Dragonlord Atarka</td>\n",
       "      <td>Mythic Rare</td>\n",
       "    </tr>\n",
       "    <tr>\n",
       "      <th>9</th>\n",
       "      <td>[White, Green]</td>\n",
       "      <td>Dragonlord Dromoka</td>\n",
       "      <td>Mythic Rare</td>\n",
       "    </tr>\n",
       "    <tr>\n",
       "      <th>10</th>\n",
       "      <td>[Black, Red]</td>\n",
       "      <td>Dragonlord Kolaghan</td>\n",
       "      <td>Mythic Rare</td>\n",
       "    </tr>\n",
       "    <tr>\n",
       "      <th>11</th>\n",
       "      <td>[White, Blue]</td>\n",
       "      <td>Dragonlord Ojutai</td>\n",
       "      <td>Mythic Rare</td>\n",
       "    </tr>\n",
       "    <tr>\n",
       "      <th>12</th>\n",
       "      <td>[Blue, Black]</td>\n",
       "      <td>Dragonlord Silumgar</td>\n",
       "      <td>Mythic Rare</td>\n",
       "    </tr>\n",
       "    <tr>\n",
       "      <th>13</th>\n",
       "      <td>[White, Blue]</td>\n",
       "      <td>Narset Transcendent</td>\n",
       "      <td>Mythic Rare</td>\n",
       "    </tr>\n",
       "    <tr>\n",
       "      <th>14</th>\n",
       "      <td>[Blue, Red, Green]</td>\n",
       "      <td>Sarkhan Unbroken</td>\n",
       "      <td>Mythic Rare</td>\n",
       "    </tr>\n",
       "  </tbody>\n",
       "</table>\n",
       "</div>"
      ],
      "text/plain": [
       "                colors                      name       rarity\n",
       "0              [White]          Ojutai Exemplars  Mythic Rare\n",
       "1               [Blue]              Clone Legion  Mythic Rare\n",
       "2               [Blue]    Shorecrasher Elemental  Mythic Rare\n",
       "3              [Black]         Risen Executioner  Mythic Rare\n",
       "4                [Red]    Descent of the Dragons  Mythic Rare\n",
       "5                [Red]          Dragon Whisperer  Mythic Rare\n",
       "6              [Green]          Deathmist Raptor  Mythic Rare\n",
       "7              [Green]  Shaman of Forgotten Ways  Mythic Rare\n",
       "8         [Red, Green]         Dragonlord Atarka  Mythic Rare\n",
       "9       [White, Green]        Dragonlord Dromoka  Mythic Rare\n",
       "10        [Black, Red]       Dragonlord Kolaghan  Mythic Rare\n",
       "11       [White, Blue]         Dragonlord Ojutai  Mythic Rare\n",
       "12       [Blue, Black]       Dragonlord Silumgar  Mythic Rare\n",
       "13       [White, Blue]       Narset Transcendent  Mythic Rare\n",
       "14  [Blue, Red, Green]          Sarkhan Unbroken  Mythic Rare"
      ]
     },
     "execution_count": 4,
     "metadata": {},
     "output_type": "execute_result"
    }
   ],
   "source": [
    "DTK = MagicCardSet(dtk_j)\n",
    "DTK.get_rare()"
   ]
  },
  {
   "cell_type": "markdown",
   "metadata": {},
   "source": [
    "# Problem 1(c).  Dragons of Tarkir.\n",
    "\n",
    "The MTG rarity levels are \"Common\", \"Uncommon\", \"Rare\", and \"Mythic Rare\". What are the rarest cards in the Dragons of Tarkir set (meaning list all card names that are from the least common rarity level)?  What colors are they associated with? You might be able to guess by the rarity level names which rarity level is least common, but we want you to use code to verify which is least common, and then print the card names and colors of those cards.\n",
    "\n",
    "* For purposes of this question, do not consider \"Basic Land\" as a rarity level.\n",
    "\n",
    "Write an MTG Set class method to answer this question, then create a markdown cell which explains your method and conclusions. "
   ]
  },
  {
   "cell_type": "markdown",
   "metadata": {
    "collapsed": true
   },
   "source": [
    "# Answer\n",
    "\n",
    "First, I set up a counter for each rarity level. I iterated through the set and counted the number of cards at each level. I saw that the rarest is indeed \"Mythic Rare.\" At first, I had it coded to print out each individual name, colors, and rarity for each \"Mythic Rare\" card, but decided it would be much cleaner to make a dataframe out of it. With some help from the office hours I created a list of each \"Mythic Rare\" card and it's associated name, colors, and rarity. Finally, I used pandas to create a dataframe."
   ]
  },
  {
   "cell_type": "markdown",
   "metadata": {},
   "source": [
    "# Problem 1(d). Common color for Uncommon cards\n",
    "\n",
    "Write a class method or Python function to determine which color is most represented among Uncommon cards.  Remember, \"colorless\" is not a color, and a card that is Blue Black counts as a Blue card and a Black card.\n",
    "\n",
    "When deciding between a class method or a python function, what was your reasoning? (\"X was easier for me to code\" is not a good reason!)"
   ]
  },
  {
   "cell_type": "code",
   "execution_count": 5,
   "metadata": {},
   "outputs": [
    {
     "data": {
      "text/plain": [
       "Counter({'Black': 15,\n",
       "         'Blue': 15,\n",
       "         'Colorless': 10,\n",
       "         'Green': 15,\n",
       "         'Red': 15,\n",
       "         'White': 15})"
      ]
     },
     "execution_count": 5,
     "metadata": {},
     "output_type": "execute_result"
    }
   ],
   "source": [
    "DTK.common_colors()"
   ]
  },
  {
   "cell_type": "markdown",
   "metadata": {},
   "source": [
    "It seems as though all of the colors are equally represented in the \"Uncommon\" cards. I chose to code another class method (rather than a python function) because it allowed me to utilize all of the beautiful methods that I previously coded for this assignment!"
   ]
  }
 ],
 "metadata": {
  "anaconda-cloud": {},
  "kernelspec": {
   "display_name": "Python 3",
   "language": "python",
   "name": "python3"
  },
  "language_info": {
   "codemirror_mode": {
    "name": "ipython",
    "version": 3
   },
   "file_extension": ".py",
   "mimetype": "text/x-python",
   "name": "python",
   "nbconvert_exporter": "python",
   "pygments_lexer": "ipython3",
   "version": "3.6.1"
  }
 },
 "nbformat": 4,
 "nbformat_minor": 1
}
